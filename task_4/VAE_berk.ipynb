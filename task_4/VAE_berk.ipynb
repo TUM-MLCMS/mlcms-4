{
 "cells": [
  {
   "cell_type": "markdown",
   "metadata": {
    "colab_type": "text",
    "id": "fHEpqDsWV4XL"
   },
   "source": [
    "# VAE\n",
    "\n"
   ]
  },
  {
   "cell_type": "markdown",
   "metadata": {
    "colab_type": "text",
    "id": "esd-MZFrV4XM"
   },
   "source": [
    "## Libraries\n"
   ]
  },
  {
   "cell_type": "code",
   "execution_count": 1,
   "metadata": {
    "colab": {},
    "colab_type": "code",
    "id": "PJ8eHRzJV4XN"
   },
   "outputs": [],
   "source": [
    "import numpy as np                              # Numpy\n",
    "import tensorflow as tf                         # Tensorflow\n",
    "from tensorflow import keras                    # Keras\n",
    "from tensorflow.keras import layers             # Layers\n",
    "import matplotlib.pyplot as plt                 # Plot"
   ]
  },
  {
   "cell_type": "markdown",
   "metadata": {
    "colab_type": "text",
    "id": "bgTSyJFpV4XR"
   },
   "source": [
    "## Sampling Layer\n"
   ]
  },
  {
   "cell_type": "code",
   "execution_count": 2,
   "metadata": {
    "colab": {},
    "colab_type": "code",
    "id": "Ucha9-lwV4XR"
   },
   "outputs": [],
   "source": [
    "class Sampling(layers.Layer):                               # Sampling class\n",
    " \n",
    "    def call(self, inputs):                                 # Uses mean and log of standard deviation to sample 'Z'\n",
    "        M, V = inputs                                       # Mean and log of variance\n",
    "        B = tf.shape(M)[0]                                  # Batch\n",
    "        D = tf.shape(M)[1]                                  # Dimention\n",
    "        E = tf.keras.backend.random_normal(shape=(B, D))    # Epsilon\n",
    "        return M + tf.exp(0.5 * V) * E                      # Return the sample"
   ]
  },
  {
   "cell_type": "markdown",
   "metadata": {
    "colab_type": "text",
    "id": "wMv910j1V4XW"
   },
   "source": [
    "## Encoder\n"
   ]
  },
  {
   "cell_type": "code",
   "execution_count": 3,
   "metadata": {
    "colab": {
     "base_uri": "https://localhost:8080/",
     "height": 403
    },
    "colab_type": "code",
    "id": "YT1Cf_53V4XX",
    "outputId": "2738a83c-09b7-485b-d6e2-c32bd661ffcc"
   },
   "outputs": [
    {
     "name": "stdout",
     "output_type": "stream",
     "text": [
      "Model: \"ENCODER\"\n",
      "__________________________________________________________________________________________________\n",
      "Layer (type)                    Output Shape         Param #     Connected to                     \n",
      "==================================================================================================\n",
      "Input (InputLayer)              [(None, 2, 1)]       0                                            \n",
      "__________________________________________________________________________________________________\n",
      "Flatten (Flatten)               (None, 2)            0           Input[0][0]                      \n",
      "__________________________________________________________________________________________________\n",
      "H1 (Dense)                      (None, 256)          768         Flatten[0][0]                    \n",
      "__________________________________________________________________________________________________\n",
      "H2 (Dense)                      (None, 256)          65792       H1[0][0]                         \n",
      "__________________________________________________________________________________________________\n",
      "Mean (Dense)                    (None, 2)            514         H2[0][0]                         \n",
      "__________________________________________________________________________________________________\n",
      "Variance (Dense)                (None, 2)            514         H2[0][0]                         \n",
      "__________________________________________________________________________________________________\n",
      "Sampling (Sampling)             (None, 2)            0           Mean[0][0]                       \n",
      "                                                                 Variance[0][0]                   \n",
      "==================================================================================================\n",
      "Total params: 67,588\n",
      "Trainable params: 67,588\n",
      "Non-trainable params: 0\n",
      "__________________________________________________________________________________________________\n"
     ]
    }
   ],
   "source": [
    "DL = 2                                                      # Latent vector dimention\n",
    "\n",
    "I = keras.Input(shape=(2, 1), name=\"Input\")                 # Input\n",
    "X = layers.Flatten(name=\"Flatten\")(I)                       # Flattened input\n",
    "X = layers.Dense(256, activation=\"relu\", name=\"H1\")(X)      # First hidden layer\n",
    "X = layers.Dense(256, activation=\"relu\", name=\"H2\")(X)      # Second hidden layer\n",
    "M = layers.Dense(DL, name=\"Mean\")(X)                        # Mean Layer\n",
    "V = layers.Dense(DL, name=\"Variance\")(X)                    # Variance Layer\n",
    "Z = Sampling(name=\"Sampling\")([M, V])                       # Sampling Layer\n",
    "encoder = keras.Model(I, [M, V, Z], name=\"ENCODER\")         # Encoder Model\n",
    "encoder.summary()                                           # Printing the computational graph"
   ]
  },
  {
   "cell_type": "markdown",
   "metadata": {
    "colab_type": "text",
    "id": "oyWUrv4iV4Xa"
   },
   "source": [
    "## Decoder\n"
   ]
  },
  {
   "cell_type": "code",
   "execution_count": 4,
   "metadata": {
    "colab": {
     "base_uri": "https://localhost:8080/",
     "height": 319
    },
    "colab_type": "code",
    "id": "ZmOE_RM9V4Xa",
    "outputId": "da8c35e3-b644-4309-e886-855bcf8e3865"
   },
   "outputs": [
    {
     "name": "stdout",
     "output_type": "stream",
     "text": [
      "Model: \"DECODER\"\n",
      "_________________________________________________________________\n",
      "Layer (type)                 Output Shape              Param #   \n",
      "=================================================================\n",
      "input_1 (InputLayer)         [(None, 2)]               0         \n",
      "_________________________________________________________________\n",
      "H1 (Dense)                   (None, 256)               768       \n",
      "_________________________________________________________________\n",
      "H2 (Dense)                   (None, 256)               65792     \n",
      "_________________________________________________________________\n",
      "Output (Dense)               (None, 2)                 514       \n",
      "_________________________________________________________________\n",
      "Reshape (Reshape)            (None, 2, 1)              0         \n",
      "=================================================================\n",
      "Total params: 67,074\n",
      "Trainable params: 67,074\n",
      "Non-trainable params: 0\n",
      "_________________________________________________________________\n"
     ]
    }
   ],
   "source": [
    "LI = keras.Input(shape=(DL,))                                           # Input from latent layer\n",
    "X = layers.Dense(256, activation=\"relu\", name=\"H1\")(LI)                 # First hidden layer\n",
    "X = layers.Dense(256, activation=\"relu\", name=\"H2\")(X)                  # Second hidden layer\n",
    "DO = layers.Dense(2, activation=\"sigmoid\", name=\"Output\")(X)            # Output layer\n",
    "DO = layers.Reshape((2, 1), name=\"Reshape\")(DO)                         # Reshaping the output\n",
    "decoder = keras.Model(LI, DO, name=\"DECODER\")                           # Decoder Model\n",
    "decoder.summary()                                                       # Printing the computational graph"
   ]
  },
  {
   "cell_type": "markdown",
   "metadata": {
    "colab_type": "text",
    "id": "BsPFXZ9uV4Xd"
   },
   "source": [
    "## VAE Model\n"
   ]
  },
  {
   "cell_type": "code",
   "execution_count": 19,
   "metadata": {
    "colab": {},
    "colab_type": "code",
    "id": "whP8gHW_V4Xd"
   },
   "outputs": [],
   "source": [
    "class VAE(keras.Model):\n",
    "\n",
    "    def __init__(self, encoder, decoder, **kwargs):\n",
    "        super(VAE, self).__init__(**kwargs)\n",
    "        self.encoder = encoder\n",
    "        self.decoder = decoder\n",
    "\n",
    "    def train_step(self, data):\n",
    "        if isinstance(data, tuple):\n",
    "            data = data[0]\n",
    "        with tf.GradientTape() as tape:                                                   # Record operations for gradient calculation\n",
    "            M, V, Z = encoder(data)                                                       # Mean, Variance, Latent Variable\n",
    "            reconstruction = decoder(Z)                                                   # Reconstruction\n",
    "            RL = tf.reduce_mean(keras.losses.binary_crossentropy(data, reconstruction))   # Reconstruction Loss\n",
    "            RL *= 2 * 1                                                                   # Scale\n",
    "            KLL = 1 + V - tf.square(M) - tf.exp(V)                                        # KL Divergence Loss\n",
    "            KLL = tf.reduce_mean(KLL)                                                     # Compute mean across dimentions\n",
    "            KLL *= -0.5                                                                   # Apply the formula\n",
    "            L = RL + KLL                                                                  # Compute total loss\n",
    "        grads = tape.gradient(L, self.trainable_weights)                                  # Calculate gradients\n",
    "        self.optimizer.apply_gradients(zip(grads, self.trainable_weights))                # Apply the processed gradients\n",
    "        \n",
    "        return {\n",
    "            \"L\": L,                                                                       # Total Loss\n",
    "            \"RL\": RL,                                                                     # Reconstruction Loss\n",
    "            \"KLL\": KLL,                                                                   # KL Divergence Loss\n",
    "        }"
   ]
  },
  {
   "cell_type": "markdown",
   "metadata": {
    "colab_type": "text",
    "id": "Z3Luaumb8fgi"
   },
   "source": [
    "## Load Data"
   ]
  },
  {
   "cell_type": "code",
   "execution_count": 6,
   "metadata": {},
   "outputs": [],
   "source": [
    "train = np.load(\"FireEvac_train_set.npy\")\n",
    "test = np.load(\"FireEvac_test_set.npy\")\n",
    "\n",
    "fire_train = np.expand_dims(train, -1).astype(\"float32\") / 255           # Concatenate train and test sets\n",
    "fire_test = np.expand_dims(test, -1).astype(\"float32\") / 255             # Normalize"
   ]
  },
  {
   "cell_type": "code",
   "execution_count": 7,
   "metadata": {},
   "outputs": [
    {
     "data": {
      "image/png": "[encoded data removed]",
      "text/plain": [
       "<Figure size 432x288 with 1 Axes>"
      ]
     },
     "metadata": {
      "needs_background": "light"
     },
     "output_type": "display_data"
    }
   ],
   "source": [
    "plt.plot(fire_train[:,0], fire_train[:,1], 'o');"
   ]
  },
  {
   "cell_type": "code",
   "execution_count": 20,
   "metadata": {},
   "outputs": [
    {
     "name": "stdout",
     "output_type": "stream",
     "text": [
      "Epoch 1/100\n",
      "24/24 [==============================] - 0s 3ms/step - L: 1.2960 - RL: 1.2960 - KLL: 2.8014e-08\n",
      "Epoch 2/100\n",
      "24/24 [==============================] - 0s 3ms/step - L: 1.2956 - RL: 1.2956 - KLL: 2.3842e-09\n",
      "Epoch 3/100\n",
      "24/24 [==============================] - 0s 3ms/step - L: 1.2957 - RL: 1.2957 - KLL: 0.0000e+00\n",
      "Epoch 4/100\n",
      "24/24 [==============================] - 0s 2ms/step - L: 1.2962 - RL: 1.2962 - KLL: 0.0000e+00\n",
      "Epoch 5/100\n",
      "24/24 [==============================] - 0s 2ms/step - L: 1.2958 - RL: 1.2958 - KLL: 0.0000e+00\n",
      "Epoch 6/100\n",
      "24/24 [==============================] - 0s 2ms/step - L: 1.2942 - RL: 1.2942 - KLL: 0.0000e+00\n",
      "Epoch 7/100\n",
      "24/24 [==============================] - 0s 2ms/step - L: 1.2946 - RL: 1.2946 - KLL: 0.0000e+00\n",
      "Epoch 8/100\n",
      "24/24 [==============================] - 0s 2ms/step - L: 1.2954 - RL: 1.2954 - KLL: 0.0000e+00\n",
      "Epoch 9/100\n",
      "24/24 [==============================] - 0s 2ms/step - L: 1.2959 - RL: 1.2959 - KLL: 0.0000e+00\n",
      "Epoch 10/100\n",
      "24/24 [==============================] - 0s 2ms/step - L: 1.2943 - RL: 1.2943 - KLL: 0.0000e+00\n",
      "Epoch 11/100\n",
      "24/24 [==============================] - 0s 3ms/step - L: 1.2953 - RL: 1.2953 - KLL: 0.0000e+00\n",
      "Epoch 12/100\n",
      "24/24 [==============================] - 0s 2ms/step - L: 1.2955 - RL: 1.2955 - KLL: 0.0000e+00\n",
      "Epoch 13/100\n",
      "24/24 [==============================] - 0s 2ms/step - L: 1.2951 - RL: 1.2951 - KLL: 0.0000e+00\n",
      "Epoch 14/100\n",
      "24/24 [==============================] - 0s 2ms/step - L: 1.2948 - RL: 1.2948 - KLL: 0.0000e+00\n",
      "Epoch 15/100\n",
      "24/24 [==============================] - 0s 2ms/step - L: 1.2958 - RL: 1.2958 - KLL: 0.0000e+00\n",
      "Epoch 16/100\n",
      "24/24 [==============================] - 0s 2ms/step - L: 1.2964 - RL: 1.2964 - KLL: 0.0000e+00\n",
      "Epoch 17/100\n",
      "24/24 [==============================] - 0s 2ms/step - L: 1.2944 - RL: 1.2944 - KLL: 0.0000e+00\n",
      "Epoch 18/100\n",
      "24/24 [==============================] - 0s 2ms/step - L: 1.2945 - RL: 1.2945 - KLL: 0.0000e+00\n",
      "Epoch 19/100\n",
      "24/24 [==============================] - 0s 2ms/step - L: 1.2962 - RL: 1.2962 - KLL: 0.0000e+00\n",
      "Epoch 20/100\n",
      "24/24 [==============================] - 0s 2ms/step - L: 1.2944 - RL: 1.2944 - KLL: 0.0000e+00\n",
      "Epoch 21/100\n",
      "24/24 [==============================] - 0s 2ms/step - L: 1.2958 - RL: 1.2958 - KLL: 0.0000e+00\n",
      "Epoch 22/100\n",
      "24/24 [==============================] - 0s 2ms/step - L: 1.2953 - RL: 1.2953 - KLL: 0.0000e+00\n",
      "Epoch 23/100\n",
      "24/24 [==============================] - 0s 2ms/step - L: 1.2952 - RL: 1.2952 - KLL: 0.0000e+00\n",
      "Epoch 24/100\n",
      "24/24 [==============================] - 0s 2ms/step - L: 1.2947 - RL: 1.2947 - KLL: 0.0000e+00\n",
      "Epoch 25/100\n",
      "24/24 [==============================] - 0s 2ms/step - L: 1.2946 - RL: 1.2946 - KLL: 0.0000e+00\n",
      "Epoch 26/100\n",
      "24/24 [==============================] - 0s 2ms/step - L: 1.2953 - RL: 1.2953 - KLL: 0.0000e+00\n",
      "Epoch 27/100\n",
      "24/24 [==============================] - 0s 2ms/step - L: 1.2960 - RL: 1.2960 - KLL: 0.0000e+00\n",
      "Epoch 28/100\n",
      "24/24 [==============================] - 0s 2ms/step - L: 1.2969 - RL: 1.2969 - KLL: 0.0000e+00\n",
      "Epoch 29/100\n",
      "24/24 [==============================] - 0s 2ms/step - L: 1.2960 - RL: 1.2960 - KLL: 0.0000e+00\n",
      "Epoch 30/100\n",
      "24/24 [==============================] - 0s 2ms/step - L: 1.2953 - RL: 1.2953 - KLL: 0.0000e+00\n",
      "Epoch 31/100\n",
      "24/24 [==============================] - 0s 2ms/step - L: 1.2951 - RL: 1.2951 - KLL: 0.0000e+00\n",
      "Epoch 32/100\n",
      "24/24 [==============================] - 0s 2ms/step - L: 1.2958 - RL: 1.2958 - KLL: 0.0000e+00\n",
      "Epoch 33/100\n",
      "24/24 [==============================] - 0s 2ms/step - L: 1.2954 - RL: 1.2954 - KLL: 0.0000e+00\n",
      "Epoch 34/100\n",
      "24/24 [==============================] - 0s 2ms/step - L: 1.2949 - RL: 1.2949 - KLL: 0.0000e+00\n",
      "Epoch 35/100\n",
      "24/24 [==============================] - 0s 2ms/step - L: 1.2953 - RL: 1.2953 - KLL: 0.0000e+00\n",
      "Epoch 36/100\n",
      "24/24 [==============================] - 0s 2ms/step - L: 1.2934 - RL: 1.2934 - KLL: 0.0000e+00\n",
      "Epoch 37/100\n",
      "24/24 [==============================] - 0s 2ms/step - L: 1.2953 - RL: 1.2953 - KLL: 0.0000e+00\n",
      "Epoch 38/100\n",
      "24/24 [==============================] - 0s 2ms/step - L: 1.2951 - RL: 1.2951 - KLL: 0.0000e+00\n",
      "Epoch 39/100\n",
      "24/24 [==============================] - 0s 2ms/step - L: 1.2961 - RL: 1.2961 - KLL: 7.1526e-09\n",
      "Epoch 40/100\n",
      "24/24 [==============================] - 0s 2ms/step - L: 1.2953 - RL: 1.2953 - KLL: 1.1921e-09\n",
      "Epoch 41/100\n",
      "24/24 [==============================] - 0s 2ms/step - L: 1.2946 - RL: 1.2946 - KLL: 0.0000e+00\n",
      "Epoch 42/100\n",
      "24/24 [==============================] - 0s 2ms/step - L: 1.2941 - RL: 1.2941 - KLL: 0.0000e+00\n",
      "Epoch 43/100\n",
      "24/24 [==============================] - 0s 2ms/step - L: 1.2947 - RL: 1.2947 - KLL: 0.0000e+00\n",
      "Epoch 44/100\n",
      "24/24 [==============================] - 0s 2ms/step - L: 1.2962 - RL: 1.2962 - KLL: 0.0000e+00\n",
      "Epoch 45/100\n",
      "24/24 [==============================] - 0s 2ms/step - L: 1.2947 - RL: 1.2947 - KLL: 0.0000e+00\n",
      "Epoch 46/100\n",
      "24/24 [==============================] - 0s 2ms/step - L: 1.2952 - RL: 1.2952 - KLL: 0.0000e+00\n",
      "Epoch 47/100\n",
      "24/24 [==============================] - 0s 2ms/step - L: 1.2964 - RL: 1.2964 - KLL: 0.0000e+00\n",
      "Epoch 48/100\n",
      "24/24 [==============================] - 0s 2ms/step - L: 1.2949 - RL: 1.2949 - KLL: 0.0000e+00\n",
      "Epoch 49/100\n",
      "24/24 [==============================] - 0s 2ms/step - L: 1.2945 - RL: 1.2945 - KLL: 0.0000e+00\n",
      "Epoch 50/100\n",
      "24/24 [==============================] - 0s 2ms/step - L: 1.2953 - RL: 1.2953 - KLL: 0.0000e+00\n",
      "Epoch 51/100\n",
      "24/24 [==============================] - 0s 2ms/step - L: 1.2946 - RL: 1.2946 - KLL: 0.0000e+00\n",
      "Epoch 52/100\n",
      "24/24 [==============================] - 0s 2ms/step - L: 1.2956 - RL: 1.2956 - KLL: 0.0000e+00\n",
      "Epoch 53/100\n",
      "24/24 [==============================] - 0s 2ms/step - L: 1.2949 - RL: 1.2949 - KLL: 0.0000e+00\n",
      "Epoch 54/100\n",
      "24/24 [==============================] - 0s 2ms/step - L: 1.2960 - RL: 1.2960 - KLL: 0.0000e+00\n",
      "Epoch 55/100\n",
      "24/24 [==============================] - 0s 2ms/step - L: 1.2955 - RL: 1.2955 - KLL: 0.0000e+00\n",
      "Epoch 56/100\n",
      "24/24 [==============================] - 0s 2ms/step - L: 1.2958 - RL: 1.2958 - KLL: 0.0000e+00\n",
      "Epoch 57/100\n",
      "24/24 [==============================] - 0s 2ms/step - L: 1.2951 - RL: 1.2951 - KLL: 0.0000e+00\n",
      "Epoch 58/100\n",
      "24/24 [==============================] - 0s 2ms/step - L: 1.2937 - RL: 1.2937 - KLL: 0.0000e+00\n",
      "Epoch 59/100\n",
      "24/24 [==============================] - 0s 2ms/step - L: 1.2960 - RL: 1.2960 - KLL: 0.0000e+00\n",
      "Epoch 60/100\n",
      "24/24 [==============================] - 0s 2ms/step - L: 1.2951 - RL: 1.2951 - KLL: 0.0000e+00\n",
      "Epoch 61/100\n",
      "24/24 [==============================] - 0s 2ms/step - L: 1.2956 - RL: 1.2956 - KLL: 0.0000e+00\n",
      "Epoch 62/100\n",
      "24/24 [==============================] - 0s 2ms/step - L: 1.2956 - RL: 1.2956 - KLL: 0.0000e+00\n",
      "Epoch 63/100\n",
      "24/24 [==============================] - 0s 2ms/step - L: 1.2952 - RL: 1.2952 - KLL: 0.0000e+00\n",
      "Epoch 64/100\n",
      "24/24 [==============================] - 0s 2ms/step - L: 1.2952 - RL: 1.2952 - KLL: 0.0000e+00\n",
      "Epoch 65/100\n",
      "24/24 [==============================] - 0s 2ms/step - L: 1.2943 - RL: 1.2943 - KLL: 0.0000e+00\n",
      "Epoch 66/100\n",
      "24/24 [==============================] - 0s 2ms/step - L: 1.2951 - RL: 1.2951 - KLL: 0.0000e+00\n",
      "Epoch 67/100\n",
      "24/24 [==============================] - 0s 2ms/step - L: 1.2948 - RL: 1.2948 - KLL: 8.3447e-09\n",
      "Epoch 68/100\n",
      "24/24 [==============================] - 0s 2ms/step - L: 1.2956 - RL: 1.2956 - KLL: 3.3379e-08\n",
      "Epoch 69/100\n",
      "24/24 [==============================] - 0s 2ms/step - L: 1.2941 - RL: 1.2941 - KLL: 2.9802e-09\n",
      "Epoch 70/100\n",
      "24/24 [==============================] - 0s 2ms/step - L: 1.2956 - RL: 1.2956 - KLL: 0.0000e+00\n",
      "Epoch 71/100\n",
      "24/24 [==============================] - 0s 2ms/step - L: 1.2951 - RL: 1.2951 - KLL: 2.9802e-09\n",
      "Epoch 72/100\n",
      "24/24 [==============================] - 0s 2ms/step - L: 1.2958 - RL: 1.2958 - KLL: 6.5565e-09\n",
      "Epoch 73/100\n",
      "24/24 [==============================] - 0s 2ms/step - L: 1.2954 - RL: 1.2954 - KLL: 1.4305e-08\n",
      "Epoch 74/100\n",
      "24/24 [==============================] - 0s 2ms/step - L: 1.2960 - RL: 1.2960 - KLL: 2.3842e-09\n",
      "Epoch 75/100\n",
      "24/24 [==============================] - 0s 2ms/step - L: 1.2954 - RL: 1.2954 - KLL: 0.0000e+00\n",
      "Epoch 76/100\n"
     ]
    },
    {
     "name": "stdout",
     "output_type": "stream",
     "text": [
      "24/24 [==============================] - 0s 2ms/step - L: 1.2953 - RL: 1.2953 - KLL: 5.9605e-10\n",
      "Epoch 77/100\n",
      "24/24 [==============================] - 0s 2ms/step - L: 1.2944 - RL: 1.2944 - KLL: 5.9605e-10\n",
      "Epoch 78/100\n",
      "24/24 [==============================] - 0s 2ms/step - L: 1.2954 - RL: 1.2954 - KLL: 1.1921e-09\n",
      "Epoch 79/100\n",
      "24/24 [==============================] - 0s 2ms/step - L: 1.2949 - RL: 1.2949 - KLL: 0.0000e+00\n",
      "Epoch 80/100\n",
      "24/24 [==============================] - 0s 2ms/step - L: 1.2950 - RL: 1.2950 - KLL: 0.0000e+00\n",
      "Epoch 81/100\n",
      "24/24 [==============================] - 0s 2ms/step - L: 1.2952 - RL: 1.2952 - KLL: 0.0000e+00\n",
      "Epoch 82/100\n",
      "24/24 [==============================] - 0s 2ms/step - L: 1.2965 - RL: 1.2965 - KLL: 0.0000e+00\n",
      "Epoch 83/100\n",
      "24/24 [==============================] - 0s 2ms/step - L: 1.2954 - RL: 1.2954 - KLL: 0.0000e+00\n",
      "Epoch 84/100\n",
      "24/24 [==============================] - 0s 2ms/step - L: 1.2962 - RL: 1.2962 - KLL: 0.0000e+00\n",
      "Epoch 85/100\n",
      "24/24 [==============================] - 0s 2ms/step - L: 1.2944 - RL: 1.2944 - KLL: 5.9605e-10\n",
      "Epoch 86/100\n",
      "24/24 [==============================] - 0s 2ms/step - L: 1.2962 - RL: 1.2962 - KLL: 0.0000e+00\n",
      "Epoch 87/100\n",
      "24/24 [==============================] - 0s 2ms/step - L: 1.2965 - RL: 1.2965 - KLL: 0.0000e+00\n",
      "Epoch 88/100\n",
      "24/24 [==============================] - 0s 2ms/step - L: 1.2959 - RL: 1.2959 - KLL: 0.0000e+00\n",
      "Epoch 89/100\n",
      "24/24 [==============================] - 0s 2ms/step - L: 1.2946 - RL: 1.2946 - KLL: 0.0000e+00\n",
      "Epoch 90/100\n",
      "24/24 [==============================] - 0s 2ms/step - L: 1.2956 - RL: 1.2956 - KLL: 0.0000e+00\n",
      "Epoch 91/100\n",
      "24/24 [==============================] - 0s 2ms/step - L: 1.2950 - RL: 1.2950 - KLL: 0.0000e+00\n",
      "Epoch 92/100\n",
      "24/24 [==============================] - 0s 2ms/step - L: 1.2946 - RL: 1.2946 - KLL: 0.0000e+00\n",
      "Epoch 93/100\n",
      "24/24 [==============================] - 0s 2ms/step - L: 1.2955 - RL: 1.2955 - KLL: 0.0000e+00\n",
      "Epoch 94/100\n",
      "24/24 [==============================] - 0s 2ms/step - L: 1.2947 - RL: 1.2947 - KLL: 0.0000e+00\n",
      "Epoch 95/100\n",
      "24/24 [==============================] - 0s 2ms/step - L: 1.2956 - RL: 1.2956 - KLL: 0.0000e+00\n",
      "Epoch 96/100\n",
      "24/24 [==============================] - 0s 2ms/step - L: 1.2949 - RL: 1.2949 - KLL: 0.0000e+00\n",
      "Epoch 97/100\n",
      "24/24 [==============================] - 0s 2ms/step - L: 1.2952 - RL: 1.2952 - KLL: 0.0000e+00\n",
      "Epoch 98/100\n",
      "24/24 [==============================] - 0s 2ms/step - L: 1.2947 - RL: 1.2947 - KLL: 0.0000e+00\n",
      "Epoch 99/100\n",
      "24/24 [==============================] - 0s 2ms/step - L: 1.2962 - RL: 1.2962 - KLL: 0.0000e+00\n",
      "Epoch 100/100\n",
      "24/24 [==============================] - 0s 2ms/step - L: 1.2954 - RL: 1.2954 - KLL: 0.0000e+00\n",
      "{'L': [1.3059965372085571, 1.2989959716796875, 1.300728678703308, 1.3087929487228394, 1.3018079996109009, 1.2771284580230713, 1.2830575704574585, 1.2963508367538452, 1.3038655519485474, 1.2788505554199219, 1.2935138940811157, 1.2975273132324219, 1.2915210723876953, 1.2859607934951782, 1.3024462461471558, 1.3117793798446655, 1.279172658920288, 1.281612753868103, 1.3077051639556885, 1.2787284851074219, 1.3017311096191406, 1.2942858934402466, 1.2926313877105713, 1.2851585149765015, 1.283672571182251, 1.294258713722229, 1.3052854537963867, 1.3200989961624146, 1.3060022592544556, 1.2948133945465088, 1.291414499282837, 1.3012714385986328, 1.2963030338287354, 1.2872276306152344, 1.2948247194290161, 1.2632914781570435, 1.2944668531417847, 1.290298342704773, 1.3072160482406616, 1.2943490743637085, 1.2825324535369873, 1.2741661071777344, 1.2848294973373413, 1.308401107788086, 1.2841179370880127, 1.2921353578567505, 1.3110262155532837, 1.2876592874526978, 1.2821611166000366, 1.2940093278884888, 1.2827856540679932, 1.298664927482605, 1.287880301475525, 1.3055731058120728, 1.2974355220794678, 1.3013689517974854, 1.2914183139801025, 1.268250584602356, 1.3054016828536987, 1.2915325164794922, 1.2991403341293335, 1.2994874715805054, 1.2930911779403687, 1.2925115823745728, 1.2774772644042969, 1.2915191650390625, 1.2866512537002563, 1.2991657257080078, 1.2749137878417969, 1.2994319200515747, 1.2912540435791016, 1.303052306175232, 1.2959192991256714, 1.3057364225387573, 1.295845866203308, 1.2936276197433472, 1.2799063920974731, 1.2952207326889038, 1.2883230447769165, 1.2892144918441772, 1.293310284614563, 1.3127564191818237, 1.2955892086029053, 1.3081309795379639, 1.2793312072753906, 1.3074480295181274, 1.3138961791992188, 1.3033959865570068, 1.2839189767837524, 1.2986338138580322, 1.2899245023727417, 1.2827309370040894, 1.2967336177825928, 1.283940076828003, 1.2997254133224487, 1.2870864868164062, 1.29263174533844, 1.2838512659072876, 1.3083833456039429, 1.2955764532089233], 'RL': [1.3059965372085571, 1.2989959716796875, 1.300728678703308, 1.3087929487228394, 1.3018079996109009, 1.2771284580230713, 1.2830575704574585, 1.2963508367538452, 1.3038655519485474, 1.2788505554199219, 1.2935138940811157, 1.2975273132324219, 1.2915210723876953, 1.2859607934951782, 1.3024462461471558, 1.3117793798446655, 1.279172658920288, 1.281612753868103, 1.3077051639556885, 1.2787284851074219, 1.3017311096191406, 1.2942858934402466, 1.2926313877105713, 1.2851585149765015, 1.283672571182251, 1.294258713722229, 1.3052854537963867, 1.3200989961624146, 1.3060022592544556, 1.2948133945465088, 1.291414499282837, 1.3012714385986328, 1.2963030338287354, 1.2872276306152344, 1.2948247194290161, 1.2632914781570435, 1.2944668531417847, 1.290298342704773, 1.3072160482406616, 1.2943490743637085, 1.2825324535369873, 1.2741661071777344, 1.2848294973373413, 1.308401107788086, 1.2841179370880127, 1.2921353578567505, 1.3110262155532837, 1.2876592874526978, 1.2821611166000366, 1.2940093278884888, 1.2827856540679932, 1.298664927482605, 1.287880301475525, 1.3055731058120728, 1.2974355220794678, 1.3013689517974854, 1.2914183139801025, 1.268250584602356, 1.3054016828536987, 1.2915325164794922, 1.2991403341293335, 1.2994874715805054, 1.2930911779403687, 1.2925115823745728, 1.2774772644042969, 1.2915191650390625, 1.2866512537002563, 1.2991657257080078, 1.2749137878417969, 1.2994319200515747, 1.2912540435791016, 1.303052306175232, 1.2959192991256714, 1.3057364225387573, 1.295845866203308, 1.2936276197433472, 1.2799063920974731, 1.2952207326889038, 1.2883230447769165, 1.2892144918441772, 1.293310284614563, 1.3127564191818237, 1.2955892086029053, 1.3081309795379639, 1.2793312072753906, 1.3074480295181274, 1.3138961791992188, 1.3033959865570068, 1.2839189767837524, 1.2986338138580322, 1.2899245023727417, 1.2827309370040894, 1.2967336177825928, 1.283940076828003, 1.2997254133224487, 1.2870864868164062, 1.29263174533844, 1.2838512659072876, 1.3083833456039429, 1.2955764532089233], 'KLL': [-0.0, -0.0, -0.0, -0.0, -0.0, -0.0, -0.0, -0.0, -0.0, -0.0, -0.0, -0.0, -0.0, -0.0, -0.0, -0.0, -0.0, -0.0, -0.0, -0.0, -0.0, -0.0, -0.0, -0.0, -0.0, -0.0, -0.0, -0.0, -0.0, -0.0, -0.0, -0.0, -0.0, -0.0, -0.0, -0.0, -0.0, -0.0, -0.0, -0.0, -0.0, -0.0, -0.0, -0.0, -0.0, -0.0, -0.0, -0.0, -0.0, -0.0, -0.0, -0.0, -0.0, -0.0, -0.0, -0.0, -0.0, -0.0, -0.0, -0.0, -0.0, -0.0, -0.0, -0.0, -0.0, -0.0, 2.9802322387695312e-08, 2.9802322387695312e-08, -0.0, -0.0, -0.0, 4.470348358154297e-08, -0.0, -0.0, -0.0, -0.0, -0.0, -0.0, -0.0, -0.0, -0.0, -0.0, -0.0, -0.0, -0.0, -0.0, -0.0, -0.0, -0.0, -0.0, -0.0, -0.0, -0.0, -0.0, -0.0, -0.0, -0.0, -0.0, -0.0, -0.0]}\n",
      "{'L': [1.3059965372085571, 1.2989959716796875, 1.300728678703308, 1.3087929487228394, 1.3018079996109009, 1.2771284580230713, 1.2830575704574585, 1.2963508367538452, 1.3038655519485474, 1.2788505554199219, 1.2935138940811157, 1.2975273132324219, 1.2915210723876953, 1.2859607934951782, 1.3024462461471558, 1.3117793798446655, 1.279172658920288, 1.281612753868103, 1.3077051639556885, 1.2787284851074219, 1.3017311096191406, 1.2942858934402466, 1.2926313877105713, 1.2851585149765015, 1.283672571182251, 1.294258713722229, 1.3052854537963867, 1.3200989961624146, 1.3060022592544556, 1.2948133945465088, 1.291414499282837, 1.3012714385986328, 1.2963030338287354, 1.2872276306152344, 1.2948247194290161, 1.2632914781570435, 1.2944668531417847, 1.290298342704773, 1.3072160482406616, 1.2943490743637085, 1.2825324535369873, 1.2741661071777344, 1.2848294973373413, 1.308401107788086, 1.2841179370880127, 1.2921353578567505, 1.3110262155532837, 1.2876592874526978, 1.2821611166000366, 1.2940093278884888, 1.2827856540679932, 1.298664927482605, 1.287880301475525, 1.3055731058120728, 1.2974355220794678, 1.3013689517974854, 1.2914183139801025, 1.268250584602356, 1.3054016828536987, 1.2915325164794922, 1.2991403341293335, 1.2994874715805054, 1.2930911779403687, 1.2925115823745728, 1.2774772644042969, 1.2915191650390625, 1.2866512537002563, 1.2991657257080078, 1.2749137878417969, 1.2994319200515747, 1.2912540435791016, 1.303052306175232, 1.2959192991256714, 1.3057364225387573, 1.295845866203308, 1.2936276197433472, 1.2799063920974731, 1.2952207326889038, 1.2883230447769165, 1.2892144918441772, 1.293310284614563, 1.3127564191818237, 1.2955892086029053, 1.3081309795379639, 1.2793312072753906, 1.3074480295181274, 1.3138961791992188, 1.3033959865570068, 1.2839189767837524, 1.2986338138580322, 1.2899245023727417, 1.2827309370040894, 1.2967336177825928, 1.283940076828003, 1.2997254133224487, 1.2870864868164062, 1.29263174533844, 1.2838512659072876, 1.3083833456039429, 1.2955764532089233], 'RL': [1.3059965372085571, 1.2989959716796875, 1.300728678703308, 1.3087929487228394, 1.3018079996109009, 1.2771284580230713, 1.2830575704574585, 1.2963508367538452, 1.3038655519485474, 1.2788505554199219, 1.2935138940811157, 1.2975273132324219, 1.2915210723876953, 1.2859607934951782, 1.3024462461471558, 1.3117793798446655, 1.279172658920288, 1.281612753868103, 1.3077051639556885, 1.2787284851074219, 1.3017311096191406, 1.2942858934402466, 1.2926313877105713, 1.2851585149765015, 1.283672571182251, 1.294258713722229, 1.3052854537963867, 1.3200989961624146, 1.3060022592544556, 1.2948133945465088, 1.291414499282837, 1.3012714385986328, 1.2963030338287354, 1.2872276306152344, 1.2948247194290161, 1.2632914781570435, 1.2944668531417847, 1.290298342704773, 1.3072160482406616, 1.2943490743637085, 1.2825324535369873, 1.2741661071777344, 1.2848294973373413, 1.308401107788086, 1.2841179370880127, 1.2921353578567505, 1.3110262155532837, 1.2876592874526978, 1.2821611166000366, 1.2940093278884888, 1.2827856540679932, 1.298664927482605, 1.287880301475525, 1.3055731058120728, 1.2974355220794678, 1.3013689517974854, 1.2914183139801025, 1.268250584602356, 1.3054016828536987, 1.2915325164794922, 1.2991403341293335, 1.2994874715805054, 1.2930911779403687, 1.2925115823745728, 1.2774772644042969, 1.2915191650390625, 1.2866512537002563, 1.2991657257080078, 1.2749137878417969, 1.2994319200515747, 1.2912540435791016, 1.303052306175232, 1.2959192991256714, 1.3057364225387573, 1.295845866203308, 1.2936276197433472, 1.2799063920974731, 1.2952207326889038, 1.2883230447769165, 1.2892144918441772, 1.293310284614563, 1.3127564191818237, 1.2955892086029053, 1.3081309795379639, 1.2793312072753906, 1.3074480295181274, 1.3138961791992188, 1.3033959865570068, 1.2839189767837524, 1.2986338138580322, 1.2899245023727417, 1.2827309370040894, 1.2967336177825928, 1.283940076828003, 1.2997254133224487, 1.2870864868164062, 1.29263174533844, 1.2838512659072876, 1.3083833456039429, 1.2955764532089233], 'KLL': [-0.0, -0.0, -0.0, -0.0, -0.0, -0.0, -0.0, -0.0, -0.0, -0.0, -0.0, -0.0, -0.0, -0.0, -0.0, -0.0, -0.0, -0.0, -0.0, -0.0, -0.0, -0.0, -0.0, -0.0, -0.0, -0.0, -0.0, -0.0, -0.0, -0.0, -0.0, -0.0, -0.0, -0.0, -0.0, -0.0, -0.0, -0.0, -0.0, -0.0, -0.0, -0.0, -0.0, -0.0, -0.0, -0.0, -0.0, -0.0, -0.0, -0.0, -0.0, -0.0, -0.0, -0.0, -0.0, -0.0, -0.0, -0.0, -0.0, -0.0, -0.0, -0.0, -0.0, -0.0, -0.0, -0.0, 2.9802322387695312e-08, 2.9802322387695312e-08, -0.0, -0.0, -0.0, 4.470348358154297e-08, -0.0, -0.0, -0.0, -0.0, -0.0, -0.0, -0.0, -0.0, -0.0, -0.0, -0.0, -0.0, -0.0, -0.0, -0.0, -0.0, -0.0, -0.0, -0.0, -0.0, -0.0, -0.0, -0.0, -0.0, -0.0, -0.0, -0.0, -0.0]}\n"
     ]
    }
   ],
   "source": [
    "vae = VAE(encoder, decoder)                                             # Model of VAE\n",
    "vae.compile(optimizer=keras.optimizers.Adam(learning_rate=0.001))       # Adam optimizer with LR = 0.001\n",
    "\n",
    "losses = {'L': [], 'RL': [], 'KLL': []}\n",
    "\n",
    "h1 = vae.fit(fire_train, epochs=100, batch_size=128)                      # 1 epoch trained, plotted\n",
    "losses['L'].extend(h1.history['L'])\n",
    "losses['RL'].extend(h1.history['RL'])\n",
    "losses['KLL'].extend(h1.history['KLL'])\n",
    "print(losses)\n",
    "print(h1.history)"
   ]
  },
  {
   "cell_type": "code",
   "execution_count": 22,
   "metadata": {
    "colab": {},
    "colab_type": "code",
    "id": "nccMITy58i6W"
   },
   "outputs": [
    {
     "data": {
      "image/png": "[encoded data removed]",
      "text/plain": [
       "<Figure size 432x288 with 1 Axes>"
      ]
     },
     "metadata": {
      "needs_background": "light"
     },
     "output_type": "display_data"
    },
    {
     "data": {
      "image/png": "[encoded data removed]",
      "text/plain": [
       "<Figure size 432x288 with 1 Axes>"
      ]
     },
     "metadata": {
      "needs_background": "light"
     },
     "output_type": "display_data"
    }
   ],
   "source": [
    "x_e = encoder.predict(fire_test)\n",
    "x_d = decoder.predict(x_e)\n",
    "x_reconstruct = x_d\n",
    "\n",
    "plt.plot(fire_test[:,0], fire_test[:,1], 'o');\n",
    "plt.show()\n",
    "plt.plot(x_reconstruct[:,0], x_reconstruct[:,1], 'o');\n",
    "plt.show()"
   ]
  },
  {
   "cell_type": "code",
   "execution_count": null,
   "metadata": {},
   "outputs": [],
   "source": []
  }
 ],
 "metadata": {
  "colab": {
   "collapsed_sections": [],
   "name": "VAE",
   "provenance": [],
   "toc_visible": true
  },
  "kernelspec": {
   "display_name": "Python 3",
   "language": "python",
   "name": "python3"
  },
  "language_info": {
   "codemirror_mode": {
    "name": "ipython",
    "version": 3
   },
   "file_extension": ".py",
   "mimetype": "text/x-python",
   "name": "python",
   "nbconvert_exporter": "python",
   "pygments_lexer": "ipython3",
   "version": "3.7.7"
  }
 },
 "nbformat": 4,
 "nbformat_minor": 1
}
