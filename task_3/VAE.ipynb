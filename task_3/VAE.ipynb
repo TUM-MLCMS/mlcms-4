{
  "nbformat": 4,
  "nbformat_minor": 0,
  "metadata": {
    "colab": {
      "name": "VAE",
      "provenance": [],
      "collapsed_sections": [],
      "toc_visible": true
    },
    "kernelspec": {
      "display_name": "Python 3",
      "language": "python",
      "name": "python3"
    },
    "language_info": {
      "codemirror_mode": {
        "name": "ipython",
        "version": 3
      },
      "file_extension": ".py",
      "mimetype": "text/x-python",
      "name": "python",
      "nbconvert_exporter": "python",
      "pygments_lexer": "ipython3",
      "version": "3.7.0"
    }
  },
  "cells": [
    {
      "cell_type": "markdown",
      "metadata": {
        "colab_type": "text",
        "id": "fHEpqDsWV4XL"
      },
      "source": [
        "# VAE\n",
        "\n"
      ]
    },
    {
      "cell_type": "markdown",
      "metadata": {
        "colab_type": "text",
        "id": "esd-MZFrV4XM"
      },
      "source": [
        "## Libraries\n"
      ]
    },
    {
      "cell_type": "code",
      "metadata": {
        "colab_type": "code",
        "id": "PJ8eHRzJV4XN",
        "colab": {}
      },
      "source": [
        "import numpy as np                              # Numpy\n",
        "import tensorflow as tf                         # Tensorflow\n",
        "from tensorflow import keras                    # Keras\n",
        "from tensorflow.keras import layers             # Layers\n",
        "import matplotlib.pyplot as plt                 # Plot"
      ],
      "execution_count": 548,
      "outputs": []
    },
    {
      "cell_type": "markdown",
      "metadata": {
        "colab_type": "text",
        "id": "bgTSyJFpV4XR"
      },
      "source": [
        "## Sampling Layer\n"
      ]
    },
    {
      "cell_type": "code",
      "metadata": {
        "colab_type": "code",
        "id": "Ucha9-lwV4XR",
        "colab": {}
      },
      "source": [
        "class Sampling(layers.Layer):                               # Sampling class\n",
        " \n",
        "    def call(self, inputs):                                 # Uses mean and log of standard deviation to sample 'Z'\n",
        "        M, V = inputs                                       # Mean and log of variance\n",
        "        B = tf.shape(M)[0]                                  # Batch\n",
        "        D = tf.shape(M)[1]                                  # Dimention\n",
        "        E = tf.keras.backend.random_normal(shape=(B, D))    # Epsilon\n",
        "        return M + tf.exp(0.5 * V) * E                      # Return the sample"
      ],
      "execution_count": 549,
      "outputs": []
    },
    {
      "cell_type": "markdown",
      "metadata": {
        "colab_type": "text",
        "id": "wMv910j1V4XW"
      },
      "source": [
        "## Encoder\n"
      ]
    },
    {
      "cell_type": "code",
      "metadata": {
        "colab_type": "code",
        "id": "YT1Cf_53V4XX",
        "colab": {
          "base_uri": "https://localhost:8080/",
          "height": 401
        },
        "outputId": "a5a56f16-cef7-4353-8c36-28d7ee2628b5"
      },
      "source": [
        "DL = 32                                                      # Latent vector dimention\n",
        "\n",
        "I = keras.Input(shape=(28, 28, 1), name=\"Input\")            # Input\n",
        "X = layers.Flatten(name=\"Flatten\")(I)                       # Flattened input\n",
        "X = layers.Dense(256, activation=\"relu\", name=\"H1\")(X)      # First hidden layer\n",
        "X = layers.Dense(256, activation=\"relu\", name=\"H2\")(X)      # Second hidden layer\n",
        "M = layers.Dense(DL, name=\"Mean\")(X)                        # Mean Layer\n",
        "V = layers.Dense(DL, name=\"Variance\")(X)                    # Variance Layer\n",
        "Z = Sampling(name=\"Sampling\")([M, V])                       # Sampling Layer\n",
        "encoder = keras.Model(I, [M, V, Z], name=\"ENCODER\")         # Encoder Model\n",
        "encoder.summary()                                           # Printing the computational graph"
      ],
      "execution_count": 550,
      "outputs": [
        {
          "output_type": "stream",
          "text": [
            "Model: \"ENCODER\"\n",
            "__________________________________________________________________________________________________\n",
            "Layer (type)                    Output Shape         Param #     Connected to                     \n",
            "==================================================================================================\n",
            "Input (InputLayer)              [(None, 28, 28, 1)]  0                                            \n",
            "__________________________________________________________________________________________________\n",
            "Flatten (Flatten)               (None, 784)          0           Input[0][0]                      \n",
            "__________________________________________________________________________________________________\n",
            "H1 (Dense)                      (None, 256)          200960      Flatten[0][0]                    \n",
            "__________________________________________________________________________________________________\n",
            "H2 (Dense)                      (None, 256)          65792       H1[0][0]                         \n",
            "__________________________________________________________________________________________________\n",
            "Mean (Dense)                    (None, 32)           8224        H2[0][0]                         \n",
            "__________________________________________________________________________________________________\n",
            "Variance (Dense)                (None, 32)           8224        H2[0][0]                         \n",
            "__________________________________________________________________________________________________\n",
            "Sampling (Sampling)             (None, 32)           0           Mean[0][0]                       \n",
            "                                                                 Variance[0][0]                   \n",
            "==================================================================================================\n",
            "Total params: 283,200\n",
            "Trainable params: 283,200\n",
            "Non-trainable params: 0\n",
            "__________________________________________________________________________________________________\n"
          ],
          "name": "stdout"
        }
      ]
    },
    {
      "cell_type": "code",
      "metadata": {
        "id": "kJ0eIJEh7EF4",
        "colab_type": "code",
        "colab": {}
      },
      "source": [
        ""
      ],
      "execution_count": null,
      "outputs": []
    },
    {
      "cell_type": "markdown",
      "metadata": {
        "colab_type": "text",
        "id": "oyWUrv4iV4Xa"
      },
      "source": [
        "## Decoder\n"
      ]
    },
    {
      "cell_type": "code",
      "metadata": {
        "colab_type": "code",
        "id": "ZmOE_RM9V4Xa",
        "colab": {
          "base_uri": "https://localhost:8080/",
          "height": 318
        },
        "outputId": "6538b6d6-a7b8-4d65-edfc-fb5215c38645"
      },
      "source": [
        "LI = keras.Input(shape=(DL,))                                           # Input from latent layer\n",
        "X = layers.Dense(256, activation=\"relu\", name=\"H1\")(LI)                 # First hidden layer\n",
        "X = layers.Dense(256, activation=\"relu\", name=\"H2\")(X)                  # Second hidden layer\n",
        "DO = layers.Dense(784, activation=\"sigmoid\", name=\"Output\")(X)          # Output layer\n",
        "DO = layers.Reshape((28, 28, 1), name=\"Reshape\")(DO)                    # Reshaping the output\n",
        "decoder = keras.Model(LI, DO, name=\"DECODER\")                           # Decoder Model\n",
        "decoder.summary()                                                       # Printing the computational graph"
      ],
      "execution_count": 551,
      "outputs": [
        {
          "output_type": "stream",
          "text": [
            "Model: \"DECODER\"\n",
            "_________________________________________________________________\n",
            "Layer (type)                 Output Shape              Param #   \n",
            "=================================================================\n",
            "input_50 (InputLayer)        [(None, 32)]              0         \n",
            "_________________________________________________________________\n",
            "H1 (Dense)                   (None, 256)               8448      \n",
            "_________________________________________________________________\n",
            "H2 (Dense)                   (None, 256)               65792     \n",
            "_________________________________________________________________\n",
            "Output (Dense)               (None, 784)               201488    \n",
            "_________________________________________________________________\n",
            "Reshape (Reshape)            (None, 28, 28, 1)         0         \n",
            "=================================================================\n",
            "Total params: 275,728\n",
            "Trainable params: 275,728\n",
            "Non-trainable params: 0\n",
            "_________________________________________________________________\n"
          ],
          "name": "stdout"
        }
      ]
    },
    {
      "cell_type": "markdown",
      "metadata": {
        "colab_type": "text",
        "id": "BsPFXZ9uV4Xd"
      },
      "source": [
        "## VAE Model\n"
      ]
    },
    {
      "cell_type": "code",
      "metadata": {
        "colab_type": "code",
        "id": "whP8gHW_V4Xd",
        "colab": {}
      },
      "source": [
        "class VAE(keras.Model):\n",
        "\n",
        "    def __init__(self, encoder, decoder, **kwargs):\n",
        "        super(VAE, self).__init__(**kwargs)\n",
        "        self.encoder = encoder\n",
        "        self.decoder = decoder\n",
        "\n",
        "    def train_step(self, data):\n",
        "        if isinstance(data, tuple):\n",
        "            data = data[0]\n",
        "        with tf.GradientTape() as tape:                                                   # Record operations for gradient calculation\n",
        "            M, V, Z = encoder(data)                                                       # Mean, Variance, Latent Variable\n",
        "            reconstruction = decoder(Z)                                                   # Reconstruction\n",
        "            RL = tf.reduce_mean(keras.losses.binary_crossentropy(data, reconstruction))   # Reconstruction Loss\n",
        "            RL *= 28 * 28                                                                 # Scale\n",
        "            KLL = 1 + V - tf.square(M) - tf.exp(V)                                        # KL Divergence Loss\n",
        "            KLL = tf.reduce_mean(KLL)                                                     # Compute mean across dimentions\n",
        "            KLL *= -0.5                                                                   # Apply the formula\n",
        "            L = RL + KLL                                                                  # Compute total loss\n",
        "        grads = tape.gradient(L, self.trainable_weights)                                  # Calculate gradients\n",
        "        self.optimizer.apply_gradients(zip(grads, self.trainable_weights))                # Apply the processed gradients\n",
        "        \n",
        "        return {\n",
        "            \"L\": L,                                                                       # Total Loss\n",
        "            \"RL\": RL,                                                                     # Reconstruction Loss\n",
        "            \"KLL\": KLL,                                                                   # KL Divergence Loss\n",
        "        }"
      ],
      "execution_count": 552,
      "outputs": []
    },
    {
      "cell_type": "markdown",
      "metadata": {
        "id": "Z3Luaumb8fgi",
        "colab_type": "text"
      },
      "source": [
        "## Load Data"
      ]
    },
    {
      "cell_type": "code",
      "metadata": {
        "id": "nccMITy58i6W",
        "colab_type": "code",
        "colab": {}
      },
      "source": [
        "(train, _), (test, _) = keras.datasets.mnist.load_data()                  # Import dataset\n",
        "mnist_train = np.expand_dims(train, -1).astype(\"float32\") / 255           # Concatenate train and test sets\n",
        "mnist_test = np.expand_dims(test, -1).astype(\"float32\") / 255             # Normalize\n",
        "\n",
        "(x_train, y_train), (x_test, y_test) = keras.datasets.mnist.load_data()   # Load data\n",
        "x_train = np.expand_dims(x_train, -1).astype(\"float32\") / 255             # Normalize train data\n",
        "x_test = np.expand_dims(x_test, -1).astype(\"float32\") / 255               # Normalize test data"
      ],
      "execution_count": 553,
      "outputs": []
    },
    {
      "cell_type": "markdown",
      "metadata": {
        "id": "Cdiozlf4_xfm",
        "colab_type": "text"
      },
      "source": [
        "## Random Sample From Data"
      ]
    },
    {
      "cell_type": "code",
      "metadata": {
        "id": "K_5X1md1_1gD",
        "colab_type": "code",
        "colab": {}
      },
      "source": [
        "x_sample = np.ndarray(shape=(15,28,28,1))\n",
        "\n",
        "for i in np.arange(15):\n",
        "  x_sample[i] = x_test[i,:,:,:]"
      ],
      "execution_count": 554,
      "outputs": []
    },
    {
      "cell_type": "markdown",
      "metadata": {
        "colab_type": "text",
        "id": "kMpg_KJiV4Xj"
      },
      "source": [
        "## Sampled Digits Grid\n"
      ]
    },
    {
      "cell_type": "code",
      "metadata": {
        "colab_type": "code",
        "id": "2MJoNn3kV4Xk",
        "colab": {}
      },
      "source": [
        "def plot_latent(encoder, decoder):\n",
        "    n = 15                                                            # Number of digits to sample from each axis\n",
        "    digit_size = 28                                                   # Width and Height of the digits\n",
        "    scale = 2.0                                                       # Scale                                                   \n",
        "    figsize = 15                                                      # Figure Size\n",
        "    figure = np.zeros((digit_size * n, digit_size * n))               # Figure\n",
        "    grid_x = np.linspace(-scale, scale, n)                            # Linearly spaced X coordinates in 2D plot     \n",
        "    grid_y = np.linspace(-scale, scale, n)[::-1]                      # Linearly spaced Y coordinates in 2D plot\n",
        "\n",
        "    for i, yi in enumerate(grid_y):\n",
        "        for j, xi in enumerate(grid_x):\n",
        "            ZS = np.array([[xi, yi]])                                 # Sampled Z\n",
        "            XD = decoder.predict(ZS)                                  # Decoded X\n",
        "            digit = XD[0].reshape(digit_size, digit_size)             # Digit      \n",
        "            figure[\n",
        "                i * digit_size : (i + 1) * digit_size,\n",
        "                j * digit_size : (j + 1) * digit_size,\n",
        "            ] = digit                                                 # Placement in 2D Plot\n",
        "\n",
        "    plt.figure(figsize=(figsize, figsize))                            # Figure\n",
        "    start_range = digit_size // 2                                     # Start range\n",
        "    end_range = n * digit_size + start_range + 1                      # End range\n",
        "    pixel_range = np.arange(start_range, end_range, digit_size)       # Pixel range\n",
        "    sample_range_x = np.round(grid_x, 1)                              # Sample range X\n",
        "    sample_range_y = np.round(grid_y, 1)                              # Sample range Y\n",
        "    plt.xticks(pixel_range, sample_range_x)                           # X ticks\n",
        "    plt.yticks(pixel_range, sample_range_y)                           # Y ticks\n",
        "    plt.xlabel(\"z[0]\")                                                # X label\n",
        "    plt.ylabel(\"z[1]\")                                                # Y label\n",
        "    plt.imshow(figure, cmap=\"Greys_r\")                                # Color\n",
        "    plt.show()                                                        # Show"
      ],
      "execution_count": 555,
      "outputs": []
    },
    {
      "cell_type": "markdown",
      "metadata": {
        "colab_type": "text",
        "id": "TscOFAMtV4Xm"
      },
      "source": [
        "## Latent Space Visualization\n"
      ]
    },
    {
      "cell_type": "code",
      "metadata": {
        "colab_type": "code",
        "id": "Eqz8yiedV4Xn",
        "colab": {}
      },
      "source": [
        "def plot_label_clusters(encoder, decoder, data, labels):\n",
        "    z_mean, _, _ = encoder.predict(data)                              # Display 2D plot of classes in latent space\n",
        "    plt.figure(figsize=(12, 10))                                      # Figure\n",
        "    plt.scatter(z_mean[:, 0], z_mean[:, 1], c=labels)                 # Scatter\n",
        "    plt.colorbar()                                                    # Colorbar\n",
        "    plt.xlabel(\"z[0]\")                                                # X Label \n",
        "    plt.ylabel(\"z[1]\")                                                # Y Label\n",
        "    plt.show()                                                        # Show\n",
        "\n",
        "(x_train, y_train), _ = keras.datasets.mnist.load_data()              # Load data\n",
        "x_train = np.expand_dims(x_train, -1).astype(\"float32\") / 255         # Normalize"
      ],
      "execution_count": 556,
      "outputs": []
    },
    {
      "cell_type": "markdown",
      "metadata": {
        "id": "UX3Ui-vCefpt",
        "colab_type": "text"
      },
      "source": [
        "## Original & Reconstructed Digits"
      ]
    },
    {
      "cell_type": "code",
      "metadata": {
        "id": "DfoqVy4kepHn",
        "colab_type": "code",
        "colab": {}
      },
      "source": [
        "def plot_comparison(encoder, decoder):\n",
        "  x_sample = x_train\n",
        "  x_e = encoder.predict(x_train)\n",
        "  x_d = decoder.predict(x_e)\n",
        "  x_reconstruct = x_d\n",
        "\n",
        "  plt.figure(figsize=(8, 36))\n",
        "  for i in range(15):\n",
        "      plt.subplot(15, 2, 2*i + 1)\n",
        "      plt.imshow(x_sample[i].reshape(28, 28), vmin=0, vmax=1, cmap=\"gray\")\n",
        "      plt.title(\"Test input\")\n",
        "      plt.colorbar()\n",
        "      plt.subplot(15, 2, 2*i + 2)\n",
        "      plt.imshow(x_reconstruct[i].reshape(28, 28), vmin=0, vmax=1, cmap=\"gray\")\n",
        "      plt.title(\"Reconstruction\")\n",
        "      plt.colorbar()\n",
        "  plt.tight_layout()"
      ],
      "execution_count": 557,
      "outputs": []
    },
    {
      "cell_type": "markdown",
      "metadata": {
        "id": "IVMIWQksOBal",
        "colab_type": "text"
      },
      "source": [
        "## Plotting Loss"
      ]
    },
    {
      "cell_type": "code",
      "metadata": {
        "id": "3Dp1h22COF4v",
        "colab_type": "code",
        "colab": {}
      },
      "source": [
        "def plot_loss(encoder, decoder):\n",
        "  plot_latent(encoder, decoder)                                         # Plot Latent Space\n",
        "  plot_label_clusters(encoder, decoder, x_train, y_train)               # Plot Label Clusters"
      ],
      "execution_count": 558,
      "outputs": []
    },
    {
      "cell_type": "markdown",
      "metadata": {
        "id": "VFcJUbE9bCb3",
        "colab_type": "text"
      },
      "source": [
        "## Plotting"
      ]
    },
    {
      "cell_type": "code",
      "metadata": {
        "id": "iARkbIgGbAOy",
        "colab_type": "code",
        "colab": {}
      },
      "source": [
        "def plot(encoder, decoder):\n",
        "  plot_latent(encoder, decoder)                                         # Plot Latent Space\n",
        "  plot_label_clusters(encoder, decoder, x_train, y_train)               # Plot Label Clusters\n",
        "  plot_comparison(encoder, decoder)                                     # Plot Original and Reconstructed Digits"
      ],
      "execution_count": 562,
      "outputs": []
    },
    {
      "cell_type": "markdown",
      "metadata": {
        "colab_type": "text",
        "id": "-SVzc7aMV4Xg"
      },
      "source": [
        "## Training\n"
      ]
    },
    {
      "cell_type": "code",
      "metadata": {
        "colab_type": "code",
        "id": "bd7MBMpxV4Xg",
        "colab": {
          "base_uri": "https://localhost:8080/",
          "height": 1000
        },
        "outputId": "450bdf4b-2da4-4059-bffe-f2c4da655864"
      },
      "source": [
        "vae = VAE(encoder, decoder)                                             # Model of VAE\n",
        "vae.compile(optimizer=keras.optimizers.Adam(learning_rate=0.001))       # Adam optimizer with LR = 0.001\n",
        "\n",
        "# Uncomment to plot the loss. There is something wrong with 'keras.callback.History()' which gives incorrect values.\n",
        "\n",
        "# h = vae.fit(mnist_train, epochs=100, batch_size=128)                    # 100 epochs trained, loss plotted                       \n",
        "\n",
        "# plt.plot(h.history['L'])\n",
        "# plt.plot(h.history['RL'])\n",
        "# plt.title('Total Loss & Reconstruction Loss')\n",
        "# plt.ylabel('Loss')\n",
        "# plt.xlabel('Epoch')\n",
        "# plt.legend(['L', 'RL'], loc='upper left')\n",
        "# plt.show()\n",
        "\n",
        "# plt.plot(h.history['KLL'])\n",
        "# plt.title('KL Divergence Loss')\n",
        "# plt.ylabel('Loss')\n",
        "# plt.xlabel('Epoch')\n",
        "# plt.legend(['KLL'], loc='upper left')\n",
        "# plt.show()\n",
        "\n",
        "# plot_loss(encoder, decoder)"
      ],
      "execution_count": 560,
      "outputs": [
        {
          "output_type": "stream",
          "text": [
            "Epoch 1/100\n",
            "469/469 [==============================] - 8s 16ms/step - L: 136.7819 - RL: 134.0478 - KLL: 2.7342\n",
            "Epoch 2/100\n",
            "469/469 [==============================] - 7s 16ms/step - L: 85.3595 - RL: 82.0522 - KLL: 3.3073\n",
            "Epoch 3/100\n",
            "469/469 [==============================] - 8s 16ms/step - L: 76.9095 - RL: 73.6837 - KLL: 3.2259\n",
            "Epoch 4/100\n",
            "469/469 [==============================] - 8s 16ms/step - L: 73.2248 - RL: 70.0672 - KLL: 3.1576\n",
            "Epoch 5/100\n",
            "469/469 [==============================] - 7s 16ms/step - L: 70.9429 - RL: 67.8158 - KLL: 3.1270\n",
            "Epoch 6/100\n",
            "469/469 [==============================] - 7s 16ms/step - L: 69.3365 - RL: 66.2394 - KLL: 3.0972\n",
            "Epoch 7/100\n",
            "469/469 [==============================] - 7s 16ms/step - L: 68.1027 - RL: 65.0222 - KLL: 3.0806\n",
            "Epoch 8/100\n",
            "469/469 [==============================] - 8s 16ms/step - L: 67.1824 - RL: 64.1115 - KLL: 3.0709\n",
            "Epoch 9/100\n",
            "469/469 [==============================] - 7s 16ms/step - L: 66.4685 - RL: 63.4108 - KLL: 3.0578\n",
            "Epoch 10/100\n",
            "469/469 [==============================] - 7s 16ms/step - L: 65.8592 - RL: 62.8073 - KLL: 3.0518\n",
            "Epoch 11/100\n",
            "469/469 [==============================] - 7s 16ms/step - L: 65.4592 - RL: 62.4142 - KLL: 3.0450\n",
            "Epoch 12/100\n",
            "469/469 [==============================] - 7s 16ms/step - L: 65.0390 - RL: 61.9984 - KLL: 3.0406\n",
            "Epoch 13/100\n",
            "469/469 [==============================] - 7s 16ms/step - L: 64.6716 - RL: 61.6354 - KLL: 3.0362\n",
            "Epoch 14/100\n",
            "469/469 [==============================] - 7s 16ms/step - L: 64.4235 - RL: 61.3930 - KLL: 3.0304\n",
            "Epoch 15/100\n",
            "469/469 [==============================] - 8s 16ms/step - L: 64.1616 - RL: 61.1345 - KLL: 3.0271\n",
            "Epoch 16/100\n",
            "469/469 [==============================] - 8s 16ms/step - L: 63.9406 - RL: 60.9193 - KLL: 3.0213\n",
            "Epoch 17/100\n",
            "469/469 [==============================] - 8s 16ms/step - L: 63.7472 - RL: 60.7216 - KLL: 3.0256\n",
            "Epoch 18/100\n",
            "469/469 [==============================] - 7s 16ms/step - L: 63.5725 - RL: 60.5526 - KLL: 3.0199\n",
            "Epoch 19/100\n",
            "469/469 [==============================] - 8s 16ms/step - L: 63.4297 - RL: 60.4132 - KLL: 3.0165\n",
            "Epoch 20/100\n",
            "469/469 [==============================] - 7s 16ms/step - L: 63.2376 - RL: 60.2206 - KLL: 3.0171\n",
            "Epoch 21/100\n",
            "469/469 [==============================] - 7s 16ms/step - L: 63.0892 - RL: 60.0747 - KLL: 3.0145\n",
            "Epoch 22/100\n",
            "469/469 [==============================] - 8s 16ms/step - L: 63.0097 - RL: 59.9981 - KLL: 3.0116\n",
            "Epoch 23/100\n",
            "469/469 [==============================] - 7s 16ms/step - L: 62.8629 - RL: 59.8519 - KLL: 3.0110\n",
            "Epoch 24/100\n",
            "469/469 [==============================] - 7s 16ms/step - L: 62.7726 - RL: 59.7628 - KLL: 3.0097\n",
            "Epoch 25/100\n",
            "469/469 [==============================] - 8s 16ms/step - L: 62.6668 - RL: 59.6573 - KLL: 3.0094\n",
            "Epoch 26/100\n",
            "469/469 [==============================] - 8s 16ms/step - L: 62.5873 - RL: 59.5799 - KLL: 3.0074\n",
            "Epoch 27/100\n",
            "469/469 [==============================] - 7s 16ms/step - L: 62.4561 - RL: 59.4498 - KLL: 3.0063\n",
            "Epoch 28/100\n",
            "469/469 [==============================] - 7s 16ms/step - L: 62.3651 - RL: 59.3592 - KLL: 3.0059\n",
            "Epoch 29/100\n",
            "469/469 [==============================] - 7s 16ms/step - L: 62.3085 - RL: 59.3027 - KLL: 3.0058\n",
            "Epoch 30/100\n",
            "469/469 [==============================] - 7s 16ms/step - L: 62.2472 - RL: 59.2460 - KLL: 3.0012\n",
            "Epoch 31/100\n",
            "469/469 [==============================] - 7s 16ms/step - L: 62.1736 - RL: 59.1723 - KLL: 3.0013\n",
            "Epoch 32/100\n",
            "469/469 [==============================] - 7s 16ms/step - L: 62.0860 - RL: 59.0838 - KLL: 3.0023\n",
            "Epoch 33/100\n",
            "469/469 [==============================] - 7s 16ms/step - L: 62.0265 - RL: 59.0263 - KLL: 3.0002\n",
            "Epoch 34/100\n",
            "469/469 [==============================] - 7s 16ms/step - L: 62.0002 - RL: 59.0003 - KLL: 2.9999\n",
            "Epoch 35/100\n",
            "469/469 [==============================] - 7s 16ms/step - L: 61.8856 - RL: 58.8858 - KLL: 2.9998\n",
            "Epoch 36/100\n",
            "469/469 [==============================] - 7s 16ms/step - L: 61.8706 - RL: 58.8747 - KLL: 2.9959\n",
            "Epoch 37/100\n",
            "469/469 [==============================] - 8s 16ms/step - L: 61.8027 - RL: 58.8046 - KLL: 2.9981\n",
            "Epoch 38/100\n",
            "469/469 [==============================] - 8s 16ms/step - L: 61.7096 - RL: 58.7115 - KLL: 2.9980\n",
            "Epoch 39/100\n",
            "469/469 [==============================] - 8s 16ms/step - L: 61.6939 - RL: 58.6972 - KLL: 2.9968\n",
            "Epoch 40/100\n",
            "469/469 [==============================] - 8s 16ms/step - L: 61.6815 - RL: 58.6847 - KLL: 2.9967\n",
            "Epoch 41/100\n",
            "469/469 [==============================] - 8s 16ms/step - L: 61.6169 - RL: 58.6228 - KLL: 2.9941\n",
            "Epoch 42/100\n",
            "469/469 [==============================] - 8s 16ms/step - L: 61.5476 - RL: 58.5539 - KLL: 2.9937\n",
            "Epoch 43/100\n",
            "469/469 [==============================] - 10s 20ms/step - L: 61.5039 - RL: 58.5105 - KLL: 2.9934\n",
            "Epoch 44/100\n",
            "469/469 [==============================] - 8s 16ms/step - L: 61.4694 - RL: 58.4763 - KLL: 2.9931\n",
            "Epoch 45/100\n",
            "469/469 [==============================] - 8s 17ms/step - L: 61.4599 - RL: 58.4675 - KLL: 2.9923\n",
            "Epoch 46/100\n",
            "469/469 [==============================] - 8s 16ms/step - L: 61.3691 - RL: 58.3762 - KLL: 2.9929\n",
            "Epoch 47/100\n",
            "469/469 [==============================] - 8s 16ms/step - L: 61.3688 - RL: 58.3793 - KLL: 2.9895\n",
            "Epoch 48/100\n",
            "469/469 [==============================] - 8s 16ms/step - L: 61.2926 - RL: 58.3023 - KLL: 2.9903\n",
            "Epoch 49/100\n",
            "469/469 [==============================] - 8s 16ms/step - L: 61.2696 - RL: 58.2795 - KLL: 2.9901\n",
            "Epoch 50/100\n",
            "469/469 [==============================] - 8s 16ms/step - L: 61.2424 - RL: 58.2534 - KLL: 2.9890\n",
            "Epoch 51/100\n",
            "469/469 [==============================] - 8s 16ms/step - L: 61.2079 - RL: 58.2193 - KLL: 2.9886\n",
            "Epoch 52/100\n",
            "469/469 [==============================] - 8s 16ms/step - L: 61.1827 - RL: 58.1950 - KLL: 2.9877\n",
            "Epoch 53/100\n",
            "469/469 [==============================] - 8s 16ms/step - L: 61.1559 - RL: 58.1686 - KLL: 2.9873\n",
            "Epoch 54/100\n",
            "469/469 [==============================] - 8s 16ms/step - L: 61.0948 - RL: 58.1072 - KLL: 2.9876\n",
            "Epoch 55/100\n",
            "469/469 [==============================] - 8s 16ms/step - L: 61.1018 - RL: 58.1162 - KLL: 2.9856\n",
            "Epoch 56/100\n",
            "469/469 [==============================] - 8s 16ms/step - L: 61.0656 - RL: 58.0832 - KLL: 2.9824\n",
            "Epoch 57/100\n",
            "469/469 [==============================] - 8s 16ms/step - L: 61.0337 - RL: 58.0489 - KLL: 2.9848\n",
            "Epoch 58/100\n",
            "469/469 [==============================] - 8s 16ms/step - L: 61.0136 - RL: 58.0274 - KLL: 2.9862\n",
            "Epoch 59/100\n",
            "469/469 [==============================] - 8s 17ms/step - L: 60.9981 - RL: 58.0168 - KLL: 2.9814\n",
            "Epoch 60/100\n",
            "469/469 [==============================] - 8s 16ms/step - L: 60.9397 - RL: 57.9567 - KLL: 2.9831\n",
            "Epoch 61/100\n",
            "469/469 [==============================] - 8s 16ms/step - L: 60.9029 - RL: 57.9198 - KLL: 2.9831\n",
            "Epoch 62/100\n",
            "469/469 [==============================] - 8s 16ms/step - L: 60.9058 - RL: 57.9240 - KLL: 2.9817\n",
            "Epoch 63/100\n",
            "469/469 [==============================] - 8s 16ms/step - L: 60.8969 - RL: 57.9151 - KLL: 2.9819\n",
            "Epoch 64/100\n",
            "469/469 [==============================] - 8s 16ms/step - L: 60.8558 - RL: 57.8747 - KLL: 2.9811\n",
            "Epoch 65/100\n",
            "469/469 [==============================] - 8s 16ms/step - L: 60.8197 - RL: 57.8389 - KLL: 2.9808\n",
            "Epoch 66/100\n",
            "469/469 [==============================] - 8s 16ms/step - L: 60.8101 - RL: 57.8301 - KLL: 2.9800\n",
            "Epoch 67/100\n",
            "469/469 [==============================] - 8s 16ms/step - L: 60.7739 - RL: 57.7947 - KLL: 2.9791\n",
            "Epoch 68/100\n",
            "469/469 [==============================] - 8s 16ms/step - L: 60.7680 - RL: 57.7890 - KLL: 2.9790\n",
            "Epoch 69/100\n",
            "469/469 [==============================] - 8s 16ms/step - L: 60.7382 - RL: 57.7624 - KLL: 2.9757\n",
            "Epoch 70/100\n",
            "469/469 [==============================] - 8s 16ms/step - L: 60.7004 - RL: 57.7264 - KLL: 2.9739\n",
            "Epoch 71/100\n",
            "469/469 [==============================] - 8s 16ms/step - L: 60.6914 - RL: 57.7163 - KLL: 2.9751\n",
            "Epoch 72/100\n",
            "469/469 [==============================] - 8s 16ms/step - L: 60.6962 - RL: 57.7206 - KLL: 2.9756\n",
            "Epoch 73/100\n",
            "469/469 [==============================] - 8s 16ms/step - L: 60.6839 - RL: 57.7105 - KLL: 2.9735\n",
            "Epoch 74/100\n",
            "469/469 [==============================] - 8s 16ms/step - L: 60.6139 - RL: 57.6398 - KLL: 2.9741\n",
            "Epoch 75/100\n",
            "469/469 [==============================] - 8s 16ms/step - L: 60.6015 - RL: 57.6283 - KLL: 2.9732\n",
            "Epoch 76/100\n",
            "469/469 [==============================] - 8s 16ms/step - L: 60.6051 - RL: 57.6320 - KLL: 2.9731\n",
            "Epoch 77/100\n",
            "469/469 [==============================] - 8s 16ms/step - L: 60.5738 - RL: 57.6012 - KLL: 2.9726\n",
            "Epoch 78/100\n",
            "469/469 [==============================] - 8s 16ms/step - L: 60.5187 - RL: 57.5493 - KLL: 2.9694\n",
            "Epoch 79/100\n",
            "469/469 [==============================] - 8s 16ms/step - L: 60.5356 - RL: 57.5670 - KLL: 2.9686\n",
            "Epoch 80/100\n",
            "469/469 [==============================] - 8s 16ms/step - L: 60.5253 - RL: 57.5583 - KLL: 2.9670\n",
            "Epoch 81/100\n",
            "469/469 [==============================] - 8s 16ms/step - L: 60.5027 - RL: 57.5344 - KLL: 2.9683\n",
            "Epoch 82/100\n",
            "469/469 [==============================] - 8s 16ms/step - L: 60.5053 - RL: 57.5376 - KLL: 2.9677\n",
            "Epoch 83/100\n",
            "469/469 [==============================] - 8s 16ms/step - L: 60.4708 - RL: 57.5044 - KLL: 2.9664\n",
            "Epoch 84/100\n",
            "469/469 [==============================] - 7s 16ms/step - L: 60.4633 - RL: 57.4950 - KLL: 2.9683\n",
            "Epoch 85/100\n",
            "469/469 [==============================] - 7s 16ms/step - L: 60.4299 - RL: 57.4619 - KLL: 2.9679\n",
            "Epoch 86/100\n",
            "469/469 [==============================] - 7s 16ms/step - L: 60.3968 - RL: 57.4345 - KLL: 2.9623\n",
            "Epoch 87/100\n",
            "469/469 [==============================] - 7s 16ms/step - L: 60.4073 - RL: 57.4434 - KLL: 2.9640\n",
            "Epoch 88/100\n",
            "469/469 [==============================] - 7s 16ms/step - L: 60.4079 - RL: 57.4440 - KLL: 2.9639\n",
            "Epoch 89/100\n",
            "469/469 [==============================] - 7s 16ms/step - L: 60.4008 - RL: 57.4390 - KLL: 2.9618\n",
            "Epoch 90/100\n",
            "469/469 [==============================] - 7s 16ms/step - L: 60.3503 - RL: 57.3868 - KLL: 2.9635\n",
            "Epoch 91/100\n",
            "469/469 [==============================] - 7s 16ms/step - L: 60.3444 - RL: 57.3845 - KLL: 2.9599\n",
            "Epoch 92/100\n",
            "469/469 [==============================] - 7s 16ms/step - L: 60.3275 - RL: 57.3672 - KLL: 2.9603\n",
            "Epoch 93/100\n",
            "469/469 [==============================] - 7s 16ms/step - L: 60.3098 - RL: 57.3490 - KLL: 2.9608\n",
            "Epoch 94/100\n",
            "469/469 [==============================] - 7s 16ms/step - L: 60.3036 - RL: 57.3457 - KLL: 2.9578\n",
            "Epoch 95/100\n",
            "469/469 [==============================] - 7s 16ms/step - L: 60.2899 - RL: 57.3325 - KLL: 2.9574\n",
            "Epoch 96/100\n",
            "469/469 [==============================] - 7s 16ms/step - L: 60.2630 - RL: 57.3045 - KLL: 2.9586\n",
            "Epoch 97/100\n",
            "469/469 [==============================] - 7s 16ms/step - L: 60.2429 - RL: 57.2875 - KLL: 2.9553\n",
            "Epoch 98/100\n",
            "469/469 [==============================] - 7s 16ms/step - L: 60.2310 - RL: 57.2743 - KLL: 2.9567\n",
            "Epoch 99/100\n",
            "469/469 [==============================] - 8s 16ms/step - L: 60.2580 - RL: 57.3016 - KLL: 2.9564\n",
            "Epoch 100/100\n",
            "469/469 [==============================] - 8s 16ms/step - L: 60.2043 - RL: 57.2509 - KLL: 2.9534\n"
          ],
          "name": "stdout"
        },
        {
          "output_type": "display_data",
          "data": {
            "image/png": "[encoded data removed]",
            "text/plain": [
              "<Figure size 432x288 with 1 Axes>"
            ]
          },
          "metadata": {
            "tags": [],
            "needs_background": "light"
          }
        },
        {
          "output_type": "display_data",
          "data": {
            "image/png": "[encoded data removed]",
            "text/plain": [
              "<Figure size 432x288 with 1 Axes>"
            ]
          },
          "metadata": {
            "tags": [],
            "needs_background": "light"
          }
        }
      ]
    },
    {
      "cell_type": "markdown",
      "metadata": {
        "id": "jsL2URtdR6CL",
        "colab_type": "text"
      },
      "source": [
        "## Epoch Checkpoints"
      ]
    },
    {
      "cell_type": "code",
      "metadata": {
        "id": "AXVNNvgyQE3M",
        "colab_type": "code",
        "colab": {}
      },
      "source": [
        "# 1st Epoch\n",
        "\n",
        "vae.fit(mnist_train, epochs=1, batch_size=128)                                          \n",
        "plot(encoder, decoder)"
      ],
      "execution_count": null,
      "outputs": []
    },
    {
      "cell_type": "code",
      "metadata": {
        "id": "cWL7GctPQTmu",
        "colab_type": "code",
        "colab": {}
      },
      "source": [
        "# 5th Epoch\n",
        "\n",
        "vae.fit(mnist_train, epochs=4, batch_size=128)                      \n",
        "plot(encoder, decoder)"
      ],
      "execution_count": null,
      "outputs": []
    },
    {
      "cell_type": "code",
      "metadata": {
        "id": "gc83_TWwQt_i",
        "colab_type": "code",
        "colab": {}
      },
      "source": [
        "# 25th Epoch\n",
        "\n",
        "vae.fit(mnist_train, epochs=20, batch_size=128)                    \n",
        "plot(encoder, decoder)\n"
      ],
      "execution_count": null,
      "outputs": []
    },
    {
      "cell_type": "code",
      "metadata": {
        "id": "O7mHG4AOQ2b6",
        "colab_type": "code",
        "colab": {}
      },
      "source": [
        "# 50th Epoch\n",
        "\n",
        "vae.fit(mnist_train, epochs=25, batch_size=128)                     \n",
        "plot(encoder, decoder)"
      ],
      "execution_count": null,
      "outputs": []
    },
    {
      "cell_type": "code",
      "metadata": {
        "id": "HDQhAWJLRWbq",
        "colab_type": "code",
        "colab": {}
      },
      "source": [
        "# 100th Epoch \n",
        "\n",
        "vae.fit(mnist_train, epochs=50, batch_size=128)                     \n",
        "plot(encoder, decoder)"
      ],
      "execution_count": null,
      "outputs": []
    }
  ]
}